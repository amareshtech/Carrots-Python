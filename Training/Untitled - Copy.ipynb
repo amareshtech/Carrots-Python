{
 "cells": [
  {
   "cell_type": "code",
   "execution_count": 6,
   "metadata": {},
   "outputs": [
    {
     "name": "stdout",
     "output_type": "stream",
     "text": [
      "x | x | 0\n",
      "---------\n",
      "0 | x |  \n",
      "---------\n",
      "  |   |  \n",
      "---------\n"
     ]
    }
   ],
   "source": [
    "def display_board(gb):\n",
    "    print(f'{gb[0]} | {gb[1]} | {gb[2]}')\n",
    "    print('---------')\n",
    "    print(f'{gb[3]} | {gb[4]} | {gb[5]}')\n",
    "    print('---------')\n",
    "    print(f'{gb[6]} | {gb[7]} | {gb[8]}')\n",
    "    print('---------')\n",
    "\n",
    "display_board(['x','x',0,0,'x',' ',' ',' ',' '])"
   ]
  },
  {
   "cell_type": "code",
   "execution_count": 8,
   "metadata": {},
   "outputs": [
    {
     "data": {
      "text/plain": [
       "True"
      ]
     },
     "execution_count": 8,
     "metadata": {},
     "output_type": "execute_result"
    }
   ],
   "source": [
    "def full_board(gb):\n",
    "    if ' ' in gb:\n",
    "        return False\n",
    "    else:\n",
    "        return True\n",
    "full_board(['x','x',0,0,'x','0','0','0','0'])"
   ]
  },
  {
   "cell_type": "code",
   "execution_count": 40,
   "metadata": {},
   "outputs": [
    {
     "data": {
      "text/plain": [
       "True"
      ]
     },
     "execution_count": 40,
     "metadata": {},
     "output_type": "execute_result"
    }
   ],
   "source": [
    "def check_win(gb, cp1, op2):\n",
    "    gbs = ''\n",
    "    return_result = False\n",
    "    wc = {'win1':'wwwnnnnnn','win2':'nnnwwwnnn','win3':'nnnnnnwww','win4':'wnnwnnwnn','win5':'nwnnwnnwn','win6':'nnwnnwnnw','win7':'wnnnwnnnw', 'win8':'nnwnwnwnn'}\n",
    "    for item in gb:\n",
    "        gbs += item\n",
    "    gbs = gbs.replace(cp1,'w')\n",
    "    gbs = gbs.replace(' ','n')\n",
    "    gbs = gbs.replace(op2,'n')\n",
    "    #print(gbs)\n",
    "    for key in wc:\n",
    "        i = 0\n",
    "        l = 0\n",
    "        for c in wc[key]:\n",
    "            if c == 'w' and c == gbs[i]:\n",
    "                l += 1\n",
    "            if l == 3:\n",
    "                return_result = True\n",
    "            i += 1\n",
    "                \n",
    "    return return_result\n",
    "\n",
    "check_win(['x','x','o','o','x','o','x','o','x'], 'x','o')\n",
    "    \n",
    "    "
   ]
  },
  {
   "cell_type": "code",
   "execution_count": 17,
   "metadata": {},
   "outputs": [
    {
     "name": "stdout",
     "output_type": "stream",
     "text": [
      "\f",
      "\n"
     ]
    }
   ],
   "source": [
    "def set_player"
   ]
  },
  {
   "cell_type": "code",
   "execution_count": null,
   "metadata": {},
   "outputs": [],
   "source": []
  }
 ],
 "metadata": {
  "kernelspec": {
   "display_name": "Python 3",
   "language": "python",
   "name": "python3"
  },
  "language_info": {
   "codemirror_mode": {
    "name": "ipython",
    "version": 3
   },
   "file_extension": ".py",
   "mimetype": "text/x-python",
   "name": "python",
   "nbconvert_exporter": "python",
   "pygments_lexer": "ipython3",
   "version": "3.8.5"
  }
 },
 "nbformat": 4,
 "nbformat_minor": 4
}
